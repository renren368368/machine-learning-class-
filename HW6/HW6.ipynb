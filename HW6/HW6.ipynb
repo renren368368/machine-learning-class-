{
 "cells": [
  {
   "cell_type": "code",
   "execution_count": 87,
   "metadata": {},
   "outputs": [],
   "source": [
    "import pandas as pd\n",
    "from sklearn.tree import DecisionTreeClassifier\n",
    "from sklearn.model_selection import train_test_split \n",
    "from sklearn.model_selection import cross_val_score\n",
    "import numpy as np\n",
    "from sklearn.preprocessing import StandardScaler\n",
    "from sklearn.pipeline import make_pipeline\n",
    "import time"
   ]
  },
  {
   "cell_type": "code",
   "execution_count": 88,
   "metadata": {},
   "outputs": [],
   "source": [
    "df = pd.read_csv('ccdefault.csv')"
   ]
  },
  {
   "cell_type": "code",
   "execution_count": 89,
   "metadata": {},
   "outputs": [],
   "source": [
    "X = df.iloc[:, 1:-1].values\n",
    "y = df['DEFAULT'].values"
   ]
  },
  {
   "cell_type": "code",
   "execution_count": 90,
   "metadata": {},
   "outputs": [
    {
     "name": "stdout",
     "output_type": "stream",
     "text": [
      "[0.9993333333333333, 0.9993703703703704, 0.9994444444444445, 0.9994074074074074, 0.9992962962962963, 0.9992962962962963, 0.9992962962962963, 0.9993703703703704, 0.9993703703703704, 0.9993703703703704]\n",
      "[0.7313333333333333, 0.723, 0.732, 0.7406666666666667, 0.722, 0.711, 0.7436666666666667, 0.718, 0.721, 0.722]\n",
      "Running time: 6.4694178104400635 Seconds\n"
     ]
    }
   ],
   "source": [
    "start=time.time()\n",
    "train_accuracy_lst=[]\n",
    "test_accuracy_lst=[]\n",
    "for i in [1,2,3,4,5,6,7,8,9,10]:\n",
    "    X_train, X_test, y_train, y_test = train_test_split(X, y, test_size = 0.1,stratify=y, random_state=i)\n",
    "    pipe_lr = make_pipeline(StandardScaler(),DecisionTreeClassifier())\n",
    "    pipe_lr.fit(X_train, y_train)\n",
    "    train_accuracy = pipe_lr.score(X_train,y_train)\n",
    "    test_accuracy = pipe_lr.score(X_test,y_test)\n",
    "    train_accuracy_lst.append(train_accuracy)\n",
    "    test_accuracy_lst.append(test_accuracy)\n",
    "print(train_accuracy_lst)\n",
    "print(test_accuracy_lst)\n",
    "end=time.time()\n",
    "print('Running time: %s Seconds'%(end-start))"
   ]
  },
  {
   "cell_type": "code",
   "execution_count": 91,
   "metadata": {},
   "outputs": [
    {
     "name": "stdout",
     "output_type": "stream",
     "text": [
      "mean of train score: 0.999\n",
      "standard deviation of train score: 0.000\n"
     ]
    }
   ],
   "source": [
    "print('mean of train score: %.3f' %np.mean(train_accuracy))\n",
    "print('standard deviation of train score: %.3f' %np.std(train_accuracy))"
   ]
  },
  {
   "cell_type": "code",
   "execution_count": 92,
   "metadata": {},
   "outputs": [
    {
     "name": "stdout",
     "output_type": "stream",
     "text": [
      "mean of test score: 0.722\n",
      "standard deviation of test score: 0.000\n"
     ]
    }
   ],
   "source": [
    "print('mean of test score: %.3f' %np.mean(test_accuracy))\n",
    "print('standard deviation of test score: %.3f' %np.std(test_accuracy))"
   ]
  },
  {
   "cell_type": "code",
   "execution_count": 93,
   "metadata": {},
   "outputs": [
    {
     "name": "stdout",
     "output_type": "stream",
     "text": [
      "CV train accuracy scores: [0.71925926 0.72703704 0.72592593 0.72592593 0.72703704 0.70518519\n",
      " 0.73296296 0.71407407 0.72407407 0.72814815]\n",
      "mean of train score: 0.723\n",
      "standard deviation of train score: 0.008\n",
      "Running time: 2.7573697566986084 Seconds\n"
     ]
    }
   ],
   "source": [
    "start=time.time()\n",
    "X_train, X_test, y_train, y_test = train_test_split(X, y, test_size = 0.1,stratify=y)\n",
    "pipe_lr = make_pipeline(StandardScaler(),DecisionTreeClassifier())\n",
    "scores_train = cross_val_score(estimator=pipe_lr,X=X_train,y=y_train,cv=10, n_jobs=-1)\n",
    "print('CV train accuracy scores: %s' % scores_train)\n",
    "print('mean of train score: %.3f' %np.mean(scores_train))\n",
    "print('standard deviation of train score: %.3f' %np.std(scores_train))\n",
    "end=time.time()\n",
    "print('Running time: %s Seconds'%(end-start))"
   ]
  },
  {
   "cell_type": "code",
   "execution_count": 94,
   "metadata": {},
   "outputs": [
    {
     "name": "stdout",
     "output_type": "stream",
     "text": [
      "CV test accuracy scores: [0.71666667 0.70333333 0.70333333 0.74666667 0.72666667 0.71666667\n",
      " 0.72333333 0.73666667 0.73333333 0.73333333]\n",
      "mean of test score: 0.724\n",
      "standard deviation of test score: 0.013\n",
      "Running time: 0.3658590316772461 Seconds\n"
     ]
    }
   ],
   "source": [
    "start=time.time()\n",
    "scores_test = cross_val_score(estimator=pipe_lr,X=X_test,y=y_test,cv=10, n_jobs=-1)\n",
    "print('CV test accuracy scores: %s' % scores_test)\n",
    "print('mean of test score: %.3f' %np.mean(scores_test))\n",
    "print('standard deviation of test score: %.3f' %np.std(scores_test))\n",
    "end=time.time()\n",
    "print('Running time: %s Seconds'%(end-start))"
   ]
  },
  {
   "cell_type": "code",
   "execution_count": 2,
   "metadata": {},
   "outputs": [
    {
     "name": "stdout",
     "output_type": "stream",
     "text": [
      "My name is {Pengjie Ren}\n",
      "My NetID is: {pengjie2}\n",
      "I hereby certify that I have read the University policy on Academic Integrity and that I am not in violation.\n"
     ]
    }
   ],
   "source": [
    "print(\"My name is {Pengjie Ren}\")\n",
    "print(\"My NetID is: {pengjie2}\")\n",
    "print(\"I hereby certify that I have read the University policy on Academic Integrity and that I am not in violation.\")"
   ]
  },
  {
   "cell_type": "code",
   "execution_count": null,
   "metadata": {},
   "outputs": [],
   "source": []
  }
 ],
 "metadata": {
  "kernelspec": {
   "display_name": "Python 3",
   "language": "python",
   "name": "python3"
  },
  "language_info": {
   "codemirror_mode": {
    "name": "ipython",
    "version": 3
   },
   "file_extension": ".py",
   "mimetype": "text/x-python",
   "name": "python",
   "nbconvert_exporter": "python",
   "pygments_lexer": "ipython3",
   "version": "3.8.3"
  }
 },
 "nbformat": 4,
 "nbformat_minor": 4
}
