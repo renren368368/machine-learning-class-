{
 "cells": [
  {
   "cell_type": "code",
   "execution_count": 1,
   "metadata": {},
   "outputs": [],
   "source": [
    "import numpy as np\n",
    "import pylab \n",
    "import scipy.stats as stats\n",
    "import sys \n",
    "import pandas as pd \n",
    "import matplotlib.pyplot as plot\n",
    "from pandas import DataFrame\n",
    "import seaborn as sns"
   ]
  },
  {
   "cell_type": "code",
   "execution_count": 2,
   "metadata": {},
   "outputs": [],
   "source": [
    "df = pd.read_csv(\"HY_Universe_corporate bond.csv\")"
   ]
  },
  {
   "cell_type": "code",
   "execution_count": 3,
   "metadata": {},
   "outputs": [
    {
     "data": {
      "text/html": [
       "<div>\n",
       "<style scoped>\n",
       "    .dataframe tbody tr th:only-of-type {\n",
       "        vertical-align: middle;\n",
       "    }\n",
       "\n",
       "    .dataframe tbody tr th {\n",
       "        vertical-align: top;\n",
       "    }\n",
       "\n",
       "    .dataframe thead th {\n",
       "        text-align: right;\n",
       "    }\n",
       "</style>\n",
       "<table border=\"1\" class=\"dataframe\">\n",
       "  <thead>\n",
       "    <tr style=\"text-align: right;\">\n",
       "      <th></th>\n",
       "      <th>CUSIP</th>\n",
       "      <th>Ticker</th>\n",
       "      <th>Issue Date</th>\n",
       "      <th>Maturity</th>\n",
       "      <th>1st Call Date</th>\n",
       "      <th>Moodys</th>\n",
       "      <th>S_and_P</th>\n",
       "      <th>Fitch</th>\n",
       "      <th>Bloomberg Composite Rating</th>\n",
       "      <th>Coupon</th>\n",
       "      <th>...</th>\n",
       "      <th>percent_intra_dealer</th>\n",
       "      <th>percent_uncapped</th>\n",
       "      <th>bond_type</th>\n",
       "      <th>Client_Trade_Percentage</th>\n",
       "      <th>weekly_mean_volume</th>\n",
       "      <th>weekly_median_volume</th>\n",
       "      <th>weekly_max_volume</th>\n",
       "      <th>weekly_min_volume</th>\n",
       "      <th>weekly_mean_ntrades</th>\n",
       "      <th>weekly_median_ntrades</th>\n",
       "    </tr>\n",
       "  </thead>\n",
       "  <tbody>\n",
       "    <tr>\n",
       "      <th>0</th>\n",
       "      <td>000324AA1</td>\n",
       "      <td>FLECIN</td>\n",
       "      <td>7/1/2014</td>\n",
       "      <td>7/1/2019</td>\n",
       "      <td>10/23/2017</td>\n",
       "      <td>Nan</td>\n",
       "      <td>Nan</td>\n",
       "      <td>Nan</td>\n",
       "      <td>Nan</td>\n",
       "      <td>12.00</td>\n",
       "      <td>...</td>\n",
       "      <td>0.006645</td>\n",
       "      <td>0.292359</td>\n",
       "      <td>5</td>\n",
       "      <td>0.521595</td>\n",
       "      <td>3105926.765</td>\n",
       "      <td>2000000.0</td>\n",
       "      <td>18980000.0</td>\n",
       "      <td>60000.0</td>\n",
       "      <td>3.541176</td>\n",
       "      <td>1</td>\n",
       "    </tr>\n",
       "    <tr>\n",
       "      <th>1</th>\n",
       "      <td>00080QAB1</td>\n",
       "      <td>RBS</td>\n",
       "      <td>3/15/2004</td>\n",
       "      <td>6/4/2018</td>\n",
       "      <td>Nan</td>\n",
       "      <td>Ba1</td>\n",
       "      <td>BB+</td>\n",
       "      <td>BBB</td>\n",
       "      <td>BB+</td>\n",
       "      <td>4.65</td>\n",
       "      <td>...</td>\n",
       "      <td>0.425018</td>\n",
       "      <td>0.974071</td>\n",
       "      <td>2</td>\n",
       "      <td>0.337071</td>\n",
       "      <td>1721696.774</td>\n",
       "      <td>1160000.0</td>\n",
       "      <td>11197000.0</td>\n",
       "      <td>5000.0</td>\n",
       "      <td>18.412903</td>\n",
       "      <td>3</td>\n",
       "    </tr>\n",
       "  </tbody>\n",
       "</table>\n",
       "<p>2 rows × 37 columns</p>\n",
       "</div>"
      ],
      "text/plain": [
       "       CUSIP  Ticker Issue Date  Maturity 1st Call Date Moodys S_and_P Fitch  \\\n",
       "0  000324AA1  FLECIN   7/1/2014  7/1/2019    10/23/2017    Nan     Nan   Nan   \n",
       "1  00080QAB1     RBS  3/15/2004  6/4/2018           Nan    Ba1     BB+   BBB   \n",
       "\n",
       "  Bloomberg Composite Rating  Coupon  ...  percent_intra_dealer  \\\n",
       "0                        Nan   12.00  ...              0.006645   \n",
       "1                        BB+    4.65  ...              0.425018   \n",
       "\n",
       "  percent_uncapped bond_type  Client_Trade_Percentage weekly_mean_volume  \\\n",
       "0         0.292359         5                 0.521595        3105926.765   \n",
       "1         0.974071         2                 0.337071        1721696.774   \n",
       "\n",
       "   weekly_median_volume weekly_max_volume weekly_min_volume  \\\n",
       "0             2000000.0        18980000.0           60000.0   \n",
       "1             1160000.0        11197000.0            5000.0   \n",
       "\n",
       "  weekly_mean_ntrades weekly_median_ntrades  \n",
       "0            3.541176                     1  \n",
       "1           18.412903                     3  \n",
       "\n",
       "[2 rows x 37 columns]"
      ]
     },
     "execution_count": 3,
     "metadata": {},
     "output_type": "execute_result"
    }
   ],
   "source": [
    "df.iloc[0:2,:]"
   ]
  },
  {
   "cell_type": "code",
   "execution_count": 4,
   "metadata": {},
   "outputs": [],
   "source": [
    "pp_data = df.loc[:,'weekly_mean_volume']"
   ]
  },
  {
   "cell_type": "code",
   "execution_count": 5,
   "metadata": {},
   "outputs": [
    {
     "data": {
      "text/plain": [
       "((array([-3.47575636, -3.23032128, -3.09450184, ...,  3.09450184,\n",
       "          3.23032128,  3.47575636]),\n",
       "  array([7.000000e+03, 1.500000e+04, 1.750000e+04, ..., 1.002500e+08,\n",
       "         1.154935e+08, 1.179500e+08])),\n",
       " (7272128.394975798, 7588325.177168989, 0.8090947614226223))"
      ]
     },
     "execution_count": 5,
     "metadata": {},
     "output_type": "execute_result"
    },
    {
     "data": {
      "image/png": "[encoded data removed]",
      "text/plain": [
       "<Figure size 432x288 with 1 Axes>"
      ]
     },
     "metadata": {
      "needs_background": "light"
     },
     "output_type": "display_data"
    }
   ],
   "source": [
    "stats.probplot(pp_data, dist='norm',plot=pylab)"
   ]
  },
  {
   "cell_type": "code",
   "execution_count": 6,
   "metadata": {},
   "outputs": [],
   "source": [
    "datarow1 = df.loc[:,'percent_intra_dealer']\n",
    "datarow2 = df.loc[:,'percent_uncapped']"
   ]
  },
  {
   "cell_type": "code",
   "execution_count": 7,
   "metadata": {},
   "outputs": [
    {
     "data": {
      "text/plain": [
       "<matplotlib.collections.PathCollection at 0x7fb0fbb95250>"
      ]
     },
     "execution_count": 7,
     "metadata": {},
     "output_type": "execute_result"
    },
    {
     "data": {
      "image/png": "[encoded data removed]",
      "text/plain": [
       "<Figure size 432x288 with 1 Axes>"
      ]
     },
     "metadata": {
      "needs_background": "light"
     },
     "output_type": "display_data"
    }
   ],
   "source": [
    "plot.xlabel('percent_intra_dealer')\n",
    "plot.ylabel('percent_uncapped')\n",
    "plot.scatter(datarow1,datarow2)"
   ]
  },
  {
   "cell_type": "code",
   "execution_count": 17,
   "metadata": {},
   "outputs": [],
   "source": [
    "dfnew = df.iloc[:,7:9]"
   ]
  },
  {
   "cell_type": "code",
   "execution_count": 16,
   "metadata": {},
   "outputs": [],
   "source": [
    "corMat = DataFrame(df.corr())"
   ]
  },
  {
   "cell_type": "code",
   "execution_count": 15,
   "metadata": {},
   "outputs": [
    {
     "data": {
      "image/png": "[encoded data removed]",
      "text/plain": [
       "<Figure size 432x288 with 1 Axes>"
      ]
     },
     "metadata": {
      "needs_background": "light"
     },
     "output_type": "display_data"
    }
   ],
   "source": [
    "plot.pcolor(corMat)\n",
    "plot.show()"
   ]
  },
  {
   "cell_type": "code",
   "execution_count": 12,
   "metadata": {},
   "outputs": [
    {
     "data": {
      "text/plain": [
       "(array([ 35., 170., 541., 847., 689., 308.,  70.,  16.,   5.,  40.]),\n",
       " array([0. , 0.1, 0.2, 0.3, 0.4, 0.5, 0.6, 0.7, 0.8, 0.9, 1. ]),\n",
       " <a list of 10 Patch objects>)"
      ]
     },
     "execution_count": 12,
     "metadata": {},
     "output_type": "execute_result"
    },
    {
     "data": {
      "image/png": "[encoded data removed]",
      "text/plain": [
       "<Figure size 432x288 with 1 Axes>"
      ]
     },
     "metadata": {
      "needs_background": "light"
     },
     "output_type": "display_data"
    }
   ],
   "source": [
    "plot.hist(df['Client_Trade_Percentage'])"
   ]
  },
  {
   "cell_type": "code",
   "execution_count": 14,
   "metadata": {},
   "outputs": [
    {
     "data": {
      "image/png": "[encoded data removed]",
      "text/plain": [
       "<Figure size 432x288 with 1 Axes>"
      ]
     },
     "metadata": {
      "needs_background": "light"
     },
     "output_type": "display_data"
    }
   ],
   "source": [
    "data_new = df.loc[:,['weekly_max_volume','weekly_median_volume']]\n",
    "data_new.boxplot(column=['weekly_max_volume','weekly_median_volume'])\n",
    "plot.show()"
   ]
  },
  {
   "cell_type": "code",
   "execution_count": 18,
   "metadata": {},
   "outputs": [
    {
     "name": "stdout",
     "output_type": "stream",
     "text": [
      "My name is {Pengjie Ren}\n",
      "My NetID is: {pengjie2}\n",
      "I hereby certify that I have read the University policy on Academic Integrity and that I am not in violation.\n"
     ]
    }
   ],
   "source": [
    "print(\"My name is {Pengjie Ren}\")\n",
    "print(\"My NetID is: {pengjie2}\")\n",
    "print(\"I hereby certify that I have read the University policy on Academic Integrity and that I am not in violation.\")"
   ]
  },
  {
   "cell_type": "code",
   "execution_count": null,
   "metadata": {},
   "outputs": [],
   "source": []
  }
 ],
 "metadata": {
  "kernelspec": {
   "display_name": "Python 3",
   "language": "python",
   "name": "python3"
  },
  "language_info": {
   "codemirror_mode": {
    "name": "ipython",
    "version": 3
   },
   "file_extension": ".py",
   "mimetype": "text/x-python",
   "name": "python",
   "nbconvert_exporter": "python",
   "pygments_lexer": "ipython3",
   "version": "3.8.3"
  }
 },
 "nbformat": 4,
 "nbformat_minor": 2
}
