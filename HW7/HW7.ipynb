{
 "cells": [
  {
   "cell_type": "code",
   "execution_count": 127,
   "metadata": {},
   "outputs": [],
   "source": [
    "import numpy as np \n",
    "import pandas as pd\n",
    "from sklearn.model_selection import GridSearchCV\n",
    "from sklearn.model_selection import train_test_split \n",
    "from sklearn.model_selection import cross_val_score\n",
    "from sklearn.ensemble import RandomForestClassifier\n",
    "from matplotlib import pyplot as plt"
   ]
  },
  {
   "cell_type": "code",
   "execution_count": 128,
   "metadata": {},
   "outputs": [],
   "source": [
    "df = pd.read_csv('ccdefault.csv')"
   ]
  },
  {
   "cell_type": "code",
   "execution_count": 129,
   "metadata": {},
   "outputs": [],
   "source": [
    "X = df.iloc[:, 1:-1].values\n",
    "y = df['DEFAULT'].values"
   ]
  },
  {
   "cell_type": "code",
   "execution_count": 130,
   "metadata": {},
   "outputs": [],
   "source": [
    " X_train, X_test, y_train, y_test = train_test_split(X, y, test_size = 0.1,stratify=y)"
   ]
  },
  {
   "cell_type": "code",
   "execution_count": 131,
   "metadata": {},
   "outputs": [],
   "source": [
    "forest = RandomForestClassifier(criterion='gini', n_jobs=-1,random_state=1)"
   ]
  },
  {
   "cell_type": "code",
   "execution_count": 132,
   "metadata": {},
   "outputs": [
    {
     "data": {
      "text/plain": [
       "{'bootstrap': True,\n",
       " 'ccp_alpha': 0.0,\n",
       " 'class_weight': None,\n",
       " 'criterion': 'gini',\n",
       " 'max_depth': None,\n",
       " 'max_features': 'auto',\n",
       " 'max_leaf_nodes': None,\n",
       " 'max_samples': None,\n",
       " 'min_impurity_decrease': 0.0,\n",
       " 'min_impurity_split': None,\n",
       " 'min_samples_leaf': 1,\n",
       " 'min_samples_split': 2,\n",
       " 'min_weight_fraction_leaf': 0.0,\n",
       " 'n_estimators': 100,\n",
       " 'n_jobs': -1,\n",
       " 'oob_score': False,\n",
       " 'random_state': 1,\n",
       " 'verbose': 0,\n",
       " 'warm_start': False}"
      ]
     },
     "execution_count": 132,
     "metadata": {},
     "output_type": "execute_result"
    }
   ],
   "source": [
    "forest.get_params()"
   ]
  },
  {
   "cell_type": "code",
   "execution_count": 133,
   "metadata": {},
   "outputs": [],
   "source": [
    "params_forest = {'n_estimators':[10,20,30,40,100]}"
   ]
  },
  {
   "cell_type": "code",
   "execution_count": 134,
   "metadata": {},
   "outputs": [],
   "source": [
    "grid_forest = GridSearchCV(estimator=forest, param_grid=params_forest,scoring='accuracy', cv=10,n_jobs=-1,verbose=1)"
   ]
  },
  {
   "cell_type": "code",
   "execution_count": 135,
   "metadata": {},
   "outputs": [
    {
     "name": "stdout",
     "output_type": "stream",
     "text": [
      "Fitting 10 folds for each of 5 candidates, totalling 50 fits\n"
     ]
    },
    {
     "name": "stderr",
     "output_type": "stream",
     "text": [
      "[Parallel(n_jobs=-1)]: Using backend LokyBackend with 4 concurrent workers.\n",
      "[Parallel(n_jobs=-1)]: Done  42 tasks      | elapsed:   37.8s\n",
      "[Parallel(n_jobs=-1)]: Done  50 out of  50 | elapsed:   53.2s finished\n"
     ]
    },
    {
     "data": {
      "text/plain": [
       "GridSearchCV(cv=10, estimator=RandomForestClassifier(n_jobs=-1, random_state=1),\n",
       "             n_jobs=-1, param_grid={'n_estimators': [10, 20, 30, 40, 100]},\n",
       "             scoring='accuracy', verbose=1)"
      ]
     },
     "execution_count": 135,
     "metadata": {},
     "output_type": "execute_result"
    }
   ],
   "source": [
    "grid_forest.fit(X_train, y_train)"
   ]
  },
  {
   "cell_type": "code",
   "execution_count": 136,
   "metadata": {},
   "outputs": [
    {
     "name": "stdout",
     "output_type": "stream",
     "text": [
      "Best hyerparameters:\n",
      " {'n_estimators': 100}\n"
     ]
    }
   ],
   "source": [
    "best_hyperparams = grid_forest.best_params_\n",
    "print('Best hyerparameters:\\n', best_hyperparams)"
   ]
  },
  {
   "cell_type": "code",
   "execution_count": 137,
   "metadata": {},
   "outputs": [
    {
     "name": "stdout",
     "output_type": "stream",
     "text": [
      "Best CV accuracy:0.814963\n"
     ]
    }
   ],
   "source": [
    "best_CV_score = grid_forest.best_score_\n",
    "print('Best CV accuracy:%f'%(best_CV_score))"
   ]
  },
  {
   "cell_type": "code",
   "execution_count": 138,
   "metadata": {},
   "outputs": [
    {
     "name": "stdout",
     "output_type": "stream",
     "text": [
      "train set accuracy of best model: 0.999\n"
     ]
    }
   ],
   "source": [
    "best_model = grid_forest.best_estimator_\n",
    "test_acc = best_model.score(X_train,y_train)\n",
    "print(\"train set accuracy of best model: {:.3f}\".format(test_acc))"
   ]
  },
  {
   "cell_type": "code",
   "execution_count": 147,
   "metadata": {},
   "outputs": [
    {
     "data": {
      "text/plain": [
       "{'mean_fit_time': array([1.2841047 , 2.0394695 , 3.16299567, 4.12333939, 9.37260139]),\n",
       " 'std_fit_time': array([0.24063796, 0.10926345, 0.0781213 , 0.11420899, 1.94500789]),\n",
       " 'mean_score_time': array([0.00782793, 0.010587  , 0.0153693 , 0.01718988, 0.0415195 ]),\n",
       " 'std_score_time': array([0.00095629, 0.00143943, 0.00317479, 0.0018478 , 0.01020902]),\n",
       " 'param_n_estimators': masked_array(data=[10, 20, 30, 40, 100],\n",
       "              mask=[False, False, False, False, False],\n",
       "        fill_value='?',\n",
       "             dtype=object),\n",
       " 'params': [{'n_estimators': 10},\n",
       "  {'n_estimators': 20},\n",
       "  {'n_estimators': 30},\n",
       "  {'n_estimators': 40},\n",
       "  {'n_estimators': 100}],\n",
       " 'split0_test_score': array([0.80740741, 0.81148148, 0.81222222, 0.81592593, 0.81814815]),\n",
       " 'split1_test_score': array([0.81703704, 0.81888889, 0.82111111, 0.81777778, 0.82333333]),\n",
       " 'split2_test_score': array([0.82037037, 0.82037037, 0.82851852, 0.82222222, 0.82777778]),\n",
       " 'split3_test_score': array([0.80962963, 0.81111111, 0.81703704, 0.81777778, 0.81333333]),\n",
       " 'split4_test_score': array([0.81407407, 0.8162963 , 0.81777778, 0.82      , 0.81555556]),\n",
       " 'split5_test_score': array([0.79703704, 0.80222222, 0.80518519, 0.80333333, 0.80555556]),\n",
       " 'split6_test_score': array([0.80259259, 0.80259259, 0.80518519, 0.80333333, 0.80518519]),\n",
       " 'split7_test_score': array([0.80925926, 0.80962963, 0.80888889, 0.81      , 0.81333333]),\n",
       " 'split8_test_score': array([0.79777778, 0.81      , 0.81333333, 0.8137037 , 0.8137037 ]),\n",
       " 'split9_test_score': array([0.80962963, 0.81222222, 0.81444444, 0.81222222, 0.8137037 ]),\n",
       " 'mean_test_score': array([0.80848148, 0.81148148, 0.81437037, 0.81362963, 0.81496296]),\n",
       " 'std_test_score': array([0.00728312, 0.00572818, 0.00684695, 0.00617486, 0.00661337]),\n",
       " 'rank_test_score': array([5, 4, 2, 3, 1], dtype=int32)}"
      ]
     },
     "execution_count": 147,
     "metadata": {},
     "output_type": "execute_result"
    }
   ],
   "source": [
    "grid_forest.cv_results_"
   ]
  },
  {
   "cell_type": "code",
   "execution_count": 139,
   "metadata": {},
   "outputs": [],
   "source": [
    "forest = RandomForestClassifier(n_estimators=100,random_state=1,criterion='gini', n_jobs=-1)"
   ]
  },
  {
   "cell_type": "code",
   "execution_count": 140,
   "metadata": {},
   "outputs": [
    {
     "data": {
      "text/plain": [
       "RandomForestClassifier(n_jobs=-1, random_state=1)"
      ]
     },
     "execution_count": 140,
     "metadata": {},
     "output_type": "execute_result"
    }
   ],
   "source": [
    "forest.fit(X_train,y_train)"
   ]
  },
  {
   "cell_type": "code",
   "execution_count": 141,
   "metadata": {},
   "outputs": [],
   "source": [
    "importances = forest.feature_importances_\n",
    "feat_labels = df.columns[1:]\n",
    "indices = np.argsort(importances)[::-1]"
   ]
  },
  {
   "cell_type": "code",
   "execution_count": 142,
   "metadata": {},
   "outputs": [
    {
     "name": "stdout",
     "output_type": "stream",
     "text": [
      " 1) PAY_0                          0.095727\n",
      " 2) AGE                            0.066390\n",
      " 3) BILL_AMT1                      0.061130\n",
      " 4) LIMIT_BAL                      0.059725\n",
      " 5) BILL_AMT2                      0.055238\n",
      " 6) BILL_AMT3                      0.051545\n",
      " 7) BILL_AMT6                      0.050804\n",
      " 8) BILL_AMT4                      0.050363\n",
      " 9) PAY_AMT1                       0.050164\n",
      "10) BILL_AMT5                      0.049629\n",
      "11) PAY_AMT2                       0.048499\n",
      "12) PAY_2                          0.047987\n",
      "13) PAY_AMT3                       0.046184\n",
      "14) PAY_AMT6                       0.045861\n",
      "15) PAY_AMT5                       0.043602\n",
      "16) PAY_AMT4                       0.042788\n",
      "17) PAY_3                          0.029097\n",
      "18) PAY_4                          0.021198\n",
      "19) EDUCATION                      0.020440\n",
      "20) PAY_5                          0.019022\n",
      "21) PAY_6                          0.018649\n",
      "22) MARRIAGE                       0.014053\n",
      "23) SEX                            0.011906\n"
     ]
    }
   ],
   "source": [
    "for f in range(X_train.shape[1]): \n",
    "    print(\"%2d) %-*s %f\" % (f + 1, 30,feat_labels[indices[f]],importances[indices[f]]))\n"
   ]
  },
  {
   "cell_type": "code",
   "execution_count": 143,
   "metadata": {},
   "outputs": [
    {
     "data": {
      "text/plain": [
       "(-1.0, 23.0)"
      ]
     },
     "execution_count": 143,
     "metadata": {},
     "output_type": "execute_result"
    },
    {
     "data": {
      "image/png": "[encoded data removed]",
      "text/plain": [
       "<Figure size 432x288 with 1 Axes>"
      ]
     },
     "metadata": {
      "needs_background": "light"
     },
     "output_type": "display_data"
    }
   ],
   "source": [
    "plt.title('Feature Importance')\n",
    "plt.bar(range(X_train.shape[1]), importances[indices],\n",
    "align='center')\n",
    "plt.xticks(range(X_train.shape[1]), feat_labels, rotation=90)\n",
    "plt.xlim([-1, X_train.shape[1]])\n"
   ]
  },
  {
   "cell_type": "code",
   "execution_count": 1,
   "metadata": {},
   "outputs": [
    {
     "name": "stdout",
     "output_type": "stream",
     "text": [
      "My name is {Pengjie Ren}\n",
      "My NetID is: {pengjie2}\n",
      "I hereby certify that I have read the University policy on Academic Integrity and that I am not in violation.\n"
     ]
    }
   ],
   "source": [
    "print(\"My name is {Pengjie Ren}\")\n",
    "print(\"My NetID is: {pengjie2}\")\n",
    "print(\"I hereby certify that I have read the University policy on Academic Integrity and that I am not in violation.\")"
   ]
  },
  {
   "cell_type": "code",
   "execution_count": null,
   "metadata": {},
   "outputs": [],
   "source": []
  }
 ],
 "metadata": {
  "kernelspec": {
   "display_name": "Python 3",
   "language": "python",
   "name": "python3"
  },
  "language_info": {
   "codemirror_mode": {
    "name": "ipython",
    "version": 3
   },
   "file_extension": ".py",
   "mimetype": "text/x-python",
   "name": "python",
   "nbconvert_exporter": "python",
   "pygments_lexer": "ipython3",
   "version": "3.8.3"
  }
 },
 "nbformat": 4,
 "nbformat_minor": 4
}
